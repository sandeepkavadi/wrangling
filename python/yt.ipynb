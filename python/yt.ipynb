{
 "cells": [
  {
   "cell_type": "code",
   "execution_count": 22,
   "id": "8e855a91",
   "metadata": {},
   "outputs": [],
   "source": [
    "import os\n",
    "import json\n",
    "import pandas as pd\n",
    "import numpy as np"
   ]
  },
  {
   "cell_type": "code",
   "execution_count": 6,
   "id": "6f9c0cc3",
   "metadata": {},
   "outputs": [],
   "source": [
    "file = './data/yt/watch_history.json'"
   ]
  },
  {
   "cell_type": "code",
   "execution_count": 10,
   "id": "3758a337",
   "metadata": {},
   "outputs": [],
   "source": [
    "with open('./data/yt/watch_history.json', encoding='utf8') as f:\n",
    "    d = json.load(f)"
   ]
  },
  {
   "cell_type": "code",
   "execution_count": 14,
   "id": "10e4aa88",
   "metadata": {},
   "outputs": [
    {
     "data": {
      "text/plain": [
       "8892"
      ]
     },
     "execution_count": 14,
     "metadata": {},
     "output_type": "execute_result"
    }
   ],
   "source": [
    "len(d)"
   ]
  },
  {
   "cell_type": "code",
   "execution_count": 25,
   "id": "d2467d4d",
   "metadata": {},
   "outputs": [],
   "source": [
    "wh = pd.DataFrame(d)"
   ]
  },
  {
   "cell_type": "code",
   "execution_count": 29,
   "id": "77abb484",
   "metadata": {},
   "outputs": [
    {
     "name": "stdout",
     "output_type": "stream",
     "text": [
      "<class 'pandas.core.frame.DataFrame'>\n",
      "RangeIndex: 8892 entries, 0 to 8891\n",
      "Data columns (total 8 columns):\n",
      " #   Column            Non-Null Count  Dtype              \n",
      "---  ------            --------------  -----              \n",
      " 0   header            8892 non-null   object             \n",
      " 1   title             8892 non-null   object             \n",
      " 2   titleUrl          8892 non-null   object             \n",
      " 3   subtitles         8714 non-null   object             \n",
      " 4   time              8892 non-null   datetime64[ns, UTC]\n",
      " 5   products          8892 non-null   object             \n",
      " 6   activityControls  8892 non-null   object             \n",
      " 7   details           44 non-null     object             \n",
      "dtypes: datetime64[ns, UTC](1), object(7)\n",
      "memory usage: 555.9+ KB\n"
     ]
    }
   ],
   "source": [
    "wh.info()"
   ]
  },
  {
   "cell_type": "code",
   "execution_count": 28,
   "id": "d98484f3",
   "metadata": {},
   "outputs": [],
   "source": [
    "wh['time'] = pd.to_datetime(wh.time)"
   ]
  },
  {
   "cell_type": "code",
   "execution_count": 34,
   "id": "364e81dd",
   "metadata": {},
   "outputs": [],
   "source": [
    "wh.products = wh.products.map(lambda x: x[0]) "
   ]
  },
  {
   "cell_type": "code",
   "execution_count": 38,
   "id": "755e3116",
   "metadata": {},
   "outputs": [],
   "source": [
    "wh = wh.sort_values(by='time', ascending=False)"
   ]
  },
  {
   "cell_type": "code",
   "execution_count": 43,
   "id": "cc5650bd",
   "metadata": {},
   "outputs": [
    {
     "data": {
      "text/html": [
       "<div>\n",
       "<style scoped>\n",
       "    .dataframe tbody tr th:only-of-type {\n",
       "        vertical-align: middle;\n",
       "    }\n",
       "\n",
       "    .dataframe tbody tr th {\n",
       "        vertical-align: top;\n",
       "    }\n",
       "\n",
       "    .dataframe thead th {\n",
       "        text-align: right;\n",
       "    }\n",
       "</style>\n",
       "<table border=\"1\" class=\"dataframe\">\n",
       "  <thead>\n",
       "    <tr style=\"text-align: right;\">\n",
       "      <th></th>\n",
       "      <th>header</th>\n",
       "      <th>title</th>\n",
       "      <th>titleUrl</th>\n",
       "      <th>subtitles</th>\n",
       "      <th>time</th>\n",
       "      <th>products</th>\n",
       "      <th>activityControls</th>\n",
       "      <th>details</th>\n",
       "      <th>prev_vid</th>\n",
       "    </tr>\n",
       "  </thead>\n",
       "  <tbody>\n",
       "    <tr>\n",
       "      <th>0</th>\n",
       "      <td>YouTube</td>\n",
       "      <td>Watched This Is Why Python Data Classes Are Aw...</td>\n",
       "      <td>https://www.youtube.com/watch?v=CvQ7e6yUtnw</td>\n",
       "      <td>[{'name': 'ArjanCodes', 'url': 'https://www.yo...</td>\n",
       "      <td>2024-01-01 17:45:55.668000+00:00</td>\n",
       "      <td>YouTube</td>\n",
       "      <td>[YouTube watch history]</td>\n",
       "      <td>NaN</td>\n",
       "      <td>2024-01-01 17:45:35.955000+00:00</td>\n",
       "    </tr>\n",
       "    <tr>\n",
       "      <th>1</th>\n",
       "      <td>YouTube</td>\n",
       "      <td>Watched I Analyzed 1000 Data Engineering Jobs ...</td>\n",
       "      <td>https://www.youtube.com/watch?v=XeVuJiitJ38</td>\n",
       "      <td>[{'name': 'Sunjana in Data ', 'url': 'https://...</td>\n",
       "      <td>2024-01-01 17:45:35.955000+00:00</td>\n",
       "      <td>YouTube</td>\n",
       "      <td>[YouTube watch history]</td>\n",
       "      <td>NaN</td>\n",
       "      <td>2024-01-01 17:44:31.587000+00:00</td>\n",
       "    </tr>\n",
       "    <tr>\n",
       "      <th>2</th>\n",
       "      <td>YouTube</td>\n",
       "      <td>Watched Gypsy Rose Blanchard set to be release...</td>\n",
       "      <td>https://www.youtube.com/watch?v=JsbYkaR_9L4</td>\n",
       "      <td>[{'name': 'TODAY', 'url': 'https://www.youtube...</td>\n",
       "      <td>2024-01-01 17:44:31.587000+00:00</td>\n",
       "      <td>YouTube</td>\n",
       "      <td>[YouTube watch history]</td>\n",
       "      <td>NaN</td>\n",
       "      <td>2024-01-01 17:44:29.049000+00:00</td>\n",
       "    </tr>\n",
       "    <tr>\n",
       "      <th>3</th>\n",
       "      <td>YouTube</td>\n",
       "      <td>Watched The Dirtiest Potatoes I’ve ever seen! ...</td>\n",
       "      <td>https://www.youtube.com/watch?v=suId7VE1rqI</td>\n",
       "      <td>[{'name': 'Potato Ty', 'url': 'https://www.you...</td>\n",
       "      <td>2024-01-01 17:44:29.049000+00:00</td>\n",
       "      <td>YouTube</td>\n",
       "      <td>[YouTube watch history]</td>\n",
       "      <td>NaN</td>\n",
       "      <td>2024-01-01 17:44:16.474000+00:00</td>\n",
       "    </tr>\n",
       "    <tr>\n",
       "      <th>4</th>\n",
       "      <td>YouTube</td>\n",
       "      <td>Watched The End 🥲😇😂 #viral #shorts #funny #fai...</td>\n",
       "      <td>https://www.youtube.com/watch?v=dyhtwTGNFzo</td>\n",
       "      <td>[{'name': 'Letsdoeit', 'url': 'https://www.you...</td>\n",
       "      <td>2024-01-01 17:44:16.474000+00:00</td>\n",
       "      <td>YouTube</td>\n",
       "      <td>[YouTube watch history]</td>\n",
       "      <td>NaN</td>\n",
       "      <td>2024-01-01 17:43:46.105000+00:00</td>\n",
       "    </tr>\n",
       "    <tr>\n",
       "      <th>...</th>\n",
       "      <td>...</td>\n",
       "      <td>...</td>\n",
       "      <td>...</td>\n",
       "      <td>...</td>\n",
       "      <td>...</td>\n",
       "      <td>...</td>\n",
       "      <td>...</td>\n",
       "      <td>...</td>\n",
       "      <td>...</td>\n",
       "    </tr>\n",
       "    <tr>\n",
       "      <th>8887</th>\n",
       "      <td>YouTube</td>\n",
       "      <td>Watched 1920x1080_video_AppIntro_Coffee_25s_EN...</td>\n",
       "      <td>https://www.youtube.com/watch?v=vAOOgvCaUkQ</td>\n",
       "      <td>NaN</td>\n",
       "      <td>2021-07-24 23:07:00.283000+00:00</td>\n",
       "      <td>YouTube</td>\n",
       "      <td>[YouTube watch history]</td>\n",
       "      <td>[{'name': 'From Google Ads'}]</td>\n",
       "      <td>2021-07-21 12:07:58.798000+00:00</td>\n",
       "    </tr>\n",
       "    <tr>\n",
       "      <th>8888</th>\n",
       "      <td>YouTube</td>\n",
       "      <td>Watched 009 468 WatchTogether CardiB ACi EN UA...</td>\n",
       "      <td>https://www.youtube.com/watch?v=O9wPiZe-f_k</td>\n",
       "      <td>NaN</td>\n",
       "      <td>2021-07-21 12:07:58.798000+00:00</td>\n",
       "      <td>YouTube</td>\n",
       "      <td>[YouTube watch history]</td>\n",
       "      <td>[{'name': 'From Google Ads'}]</td>\n",
       "      <td>2021-07-21 00:21:20.365000+00:00</td>\n",
       "    </tr>\n",
       "    <tr>\n",
       "      <th>8889</th>\n",
       "      <td>YouTube</td>\n",
       "      <td>Watched Labster Launch Promo Stomp Ad July</td>\n",
       "      <td>https://www.youtube.com/watch?v=Hd3xrBLNnCU</td>\n",
       "      <td>NaN</td>\n",
       "      <td>2021-07-21 00:21:20.365000+00:00</td>\n",
       "      <td>YouTube</td>\n",
       "      <td>[YouTube watch history]</td>\n",
       "      <td>[{'name': 'From Google Ads'}]</td>\n",
       "      <td>2021-02-13 04:53:26.866000+00:00</td>\n",
       "    </tr>\n",
       "    <tr>\n",
       "      <th>8890</th>\n",
       "      <td>YouTube</td>\n",
       "      <td>Watched BPAM 16x9   18s</td>\n",
       "      <td>https://www.youtube.com/watch?v=C8pKP4wLjpc</td>\n",
       "      <td>NaN</td>\n",
       "      <td>2021-02-13 04:53:26.866000+00:00</td>\n",
       "      <td>YouTube</td>\n",
       "      <td>[YouTube watch history]</td>\n",
       "      <td>[{'name': 'From Google Ads'}]</td>\n",
       "      <td>2020-05-12 22:54:11.667000+00:00</td>\n",
       "    </tr>\n",
       "    <tr>\n",
       "      <th>8891</th>\n",
       "      <td>YouTube</td>\n",
       "      <td>Watched https://www.youtube.com/watch?v=wkP_8v...</td>\n",
       "      <td>https://www.youtube.com/watch?v=wkP_8vwhPtM</td>\n",
       "      <td>NaN</td>\n",
       "      <td>2020-05-12 22:54:11.667000+00:00</td>\n",
       "      <td>YouTube</td>\n",
       "      <td>[YouTube watch history]</td>\n",
       "      <td>[{'name': 'From Google Ads'}]</td>\n",
       "      <td>NaT</td>\n",
       "    </tr>\n",
       "  </tbody>\n",
       "</table>\n",
       "<p>8892 rows × 9 columns</p>\n",
       "</div>"
      ],
      "text/plain": [
       "       header                                              title  \\\n",
       "0     YouTube  Watched This Is Why Python Data Classes Are Aw...   \n",
       "1     YouTube  Watched I Analyzed 1000 Data Engineering Jobs ...   \n",
       "2     YouTube  Watched Gypsy Rose Blanchard set to be release...   \n",
       "3     YouTube  Watched The Dirtiest Potatoes I’ve ever seen! ...   \n",
       "4     YouTube  Watched The End 🥲😇😂 #viral #shorts #funny #fai...   \n",
       "...       ...                                                ...   \n",
       "8887  YouTube  Watched 1920x1080_video_AppIntro_Coffee_25s_EN...   \n",
       "8888  YouTube  Watched 009 468 WatchTogether CardiB ACi EN UA...   \n",
       "8889  YouTube         Watched Labster Launch Promo Stomp Ad July   \n",
       "8890  YouTube                            Watched BPAM 16x9   18s   \n",
       "8891  YouTube  Watched https://www.youtube.com/watch?v=wkP_8v...   \n",
       "\n",
       "                                         titleUrl  \\\n",
       "0     https://www.youtube.com/watch?v=CvQ7e6yUtnw   \n",
       "1     https://www.youtube.com/watch?v=XeVuJiitJ38   \n",
       "2     https://www.youtube.com/watch?v=JsbYkaR_9L4   \n",
       "3     https://www.youtube.com/watch?v=suId7VE1rqI   \n",
       "4     https://www.youtube.com/watch?v=dyhtwTGNFzo   \n",
       "...                                           ...   \n",
       "8887  https://www.youtube.com/watch?v=vAOOgvCaUkQ   \n",
       "8888  https://www.youtube.com/watch?v=O9wPiZe-f_k   \n",
       "8889  https://www.youtube.com/watch?v=Hd3xrBLNnCU   \n",
       "8890  https://www.youtube.com/watch?v=C8pKP4wLjpc   \n",
       "8891  https://www.youtube.com/watch?v=wkP_8vwhPtM   \n",
       "\n",
       "                                              subtitles  \\\n",
       "0     [{'name': 'ArjanCodes', 'url': 'https://www.yo...   \n",
       "1     [{'name': 'Sunjana in Data ', 'url': 'https://...   \n",
       "2     [{'name': 'TODAY', 'url': 'https://www.youtube...   \n",
       "3     [{'name': 'Potato Ty', 'url': 'https://www.you...   \n",
       "4     [{'name': 'Letsdoeit', 'url': 'https://www.you...   \n",
       "...                                                 ...   \n",
       "8887                                                NaN   \n",
       "8888                                                NaN   \n",
       "8889                                                NaN   \n",
       "8890                                                NaN   \n",
       "8891                                                NaN   \n",
       "\n",
       "                                 time products         activityControls  \\\n",
       "0    2024-01-01 17:45:55.668000+00:00  YouTube  [YouTube watch history]   \n",
       "1    2024-01-01 17:45:35.955000+00:00  YouTube  [YouTube watch history]   \n",
       "2    2024-01-01 17:44:31.587000+00:00  YouTube  [YouTube watch history]   \n",
       "3    2024-01-01 17:44:29.049000+00:00  YouTube  [YouTube watch history]   \n",
       "4    2024-01-01 17:44:16.474000+00:00  YouTube  [YouTube watch history]   \n",
       "...                               ...      ...                      ...   \n",
       "8887 2021-07-24 23:07:00.283000+00:00  YouTube  [YouTube watch history]   \n",
       "8888 2021-07-21 12:07:58.798000+00:00  YouTube  [YouTube watch history]   \n",
       "8889 2021-07-21 00:21:20.365000+00:00  YouTube  [YouTube watch history]   \n",
       "8890 2021-02-13 04:53:26.866000+00:00  YouTube  [YouTube watch history]   \n",
       "8891 2020-05-12 22:54:11.667000+00:00  YouTube  [YouTube watch history]   \n",
       "\n",
       "                            details                         prev_vid  \n",
       "0                               NaN 2024-01-01 17:45:35.955000+00:00  \n",
       "1                               NaN 2024-01-01 17:44:31.587000+00:00  \n",
       "2                               NaN 2024-01-01 17:44:29.049000+00:00  \n",
       "3                               NaN 2024-01-01 17:44:16.474000+00:00  \n",
       "4                               NaN 2024-01-01 17:43:46.105000+00:00  \n",
       "...                             ...                              ...  \n",
       "8887  [{'name': 'From Google Ads'}] 2021-07-21 12:07:58.798000+00:00  \n",
       "8888  [{'name': 'From Google Ads'}] 2021-07-21 00:21:20.365000+00:00  \n",
       "8889  [{'name': 'From Google Ads'}] 2021-02-13 04:53:26.866000+00:00  \n",
       "8890  [{'name': 'From Google Ads'}] 2020-05-12 22:54:11.667000+00:00  \n",
       "8891  [{'name': 'From Google Ads'}]                              NaT  \n",
       "\n",
       "[8892 rows x 9 columns]"
      ]
     },
     "execution_count": 43,
     "metadata": {},
     "output_type": "execute_result"
    }
   ],
   "source": [
    "wh"
   ]
  },
  {
   "cell_type": "code",
   "execution_count": 44,
   "id": "2b5c983b",
   "metadata": {},
   "outputs": [],
   "source": [
    "wh['time_elapsed'] = wh['time'] - wh['time'].shift(-1)"
   ]
  },
  {
   "cell_type": "code",
   "execution_count": 46,
   "id": "bf6bf71a",
   "metadata": {},
   "outputs": [],
   "source": [
    "wh['dt'] = wh.time.dt.date"
   ]
  },
  {
   "cell_type": "code",
   "execution_count": 52,
   "id": "81fe0d54",
   "metadata": {},
   "outputs": [],
   "source": [
    "t = wh[wh.time_elapsed <= pd.Timedelta(1, 'H')].groupby(by=['dt'])['time_elapsed'].sum().reset_index()"
   ]
  },
  {
   "cell_type": "code",
   "execution_count": 65,
   "id": "d43e9050",
   "metadata": {},
   "outputs": [
    {
     "name": "stderr",
     "output_type": "stream",
     "text": [
      "C:\\Users\\sande\\anaconda3\\lib\\site-packages\\pandas\\core\\ops\\array_ops.py:73: FutureWarning: Comparison of Timestamp with datetime.date is deprecated in order to match the standard library behavior.  In a future version these will be considered non-comparable.Use 'ts == pd.Timestamp(date)' or 'ts.date() == date' instead.\n",
      "  result = libops.scalar_compare(x.ravel(), y, op)\n"
     ]
    }
   ],
   "source": [
    "import datetime\n",
    "\n",
    "t = t[t.dt >= pd.to_datetime('2023-12-01')]"
   ]
  },
  {
   "cell_type": "code",
   "execution_count": 68,
   "id": "8fdb0032",
   "metadata": {
    "scrolled": false
   },
   "outputs": [
    {
     "data": {
      "text/plain": [
       "<seaborn.axisgrid.FacetGrid at 0x1d4a3a4d2e0>"
      ]
     },
     "execution_count": 68,
     "metadata": {},
     "output_type": "execute_result"
    },
    {
     "data": {
      "image/png": "[encoded data removed]",
      "text/plain": [
       "<Figure size 864x432 with 1 Axes>"
      ]
     },
     "metadata": {
      "needs_background": "light"
     },
     "output_type": "display_data"
    }
   ],
   "source": [
    "import seaborn as sns\n",
    "\n",
    "sns.relplot(data=t\n",
    "           , x='dt', y='time_elapsed'\n",
    "           , kind='line'\n",
    "           , height=6, aspect=2)"
   ]
  },
  {
   "cell_type": "code",
   "execution_count": 56,
   "id": "db39b6d9",
   "metadata": {},
   "outputs": [
    {
     "data": {
      "text/plain": [
       "0     2021-07-24\n",
       "1     2022-12-08\n",
       "2     2022-12-09\n",
       "3     2022-12-10\n",
       "4     2023-03-16\n",
       "5     2023-11-25\n",
       "6     2023-11-26\n",
       "7     2023-11-27\n",
       "8     2023-11-28\n",
       "9     2023-11-29\n",
       "10    2023-11-30\n",
       "11    2023-12-01\n",
       "12    2023-12-02\n",
       "13    2023-12-03\n",
       "14    2023-12-04\n",
       "15    2023-12-05\n",
       "16    2023-12-06\n",
       "17    2023-12-07\n",
       "18    2023-12-08\n",
       "19    2023-12-09\n",
       "20    2023-12-10\n",
       "21    2023-12-11\n",
       "22    2023-12-12\n",
       "23    2023-12-13\n",
       "24    2023-12-14\n",
       "25    2023-12-15\n",
       "26    2023-12-16\n",
       "27    2023-12-17\n",
       "28    2023-12-18\n",
       "29    2023-12-19\n",
       "30    2023-12-20\n",
       "31    2023-12-21\n",
       "32    2023-12-22\n",
       "33    2023-12-23\n",
       "34    2023-12-24\n",
       "35    2023-12-25\n",
       "36    2023-12-26\n",
       "37    2023-12-27\n",
       "38    2023-12-28\n",
       "39    2023-12-29\n",
       "40    2023-12-30\n",
       "41    2023-12-31\n",
       "42    2024-01-01\n",
       "Name: dt, dtype: object"
      ]
     },
     "execution_count": 56,
     "metadata": {},
     "output_type": "execute_result"
    }
   ],
   "source": [
    "t['dt']"
   ]
  },
  {
   "cell_type": "code",
   "execution_count": null,
   "id": "7640b3fa",
   "metadata": {},
   "outputs": [],
   "source": []
  }
 ],
 "metadata": {
  "kernelspec": {
   "display_name": "Python 3 (ipykernel)",
   "language": "python",
   "name": "python3"
  },
  "language_info": {
   "codemirror_mode": {
    "name": "ipython",
    "version": 3
   },
   "file_extension": ".py",
   "mimetype": "text/x-python",
   "name": "python",
   "nbconvert_exporter": "python",
   "pygments_lexer": "ipython3",
   "version": "3.9.7"
  }
 },
 "nbformat": 4,
 "nbformat_minor": 5
}
